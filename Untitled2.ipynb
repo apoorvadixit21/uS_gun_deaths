{
 "cells": [
  {
   "cell_type": "code",
   "execution_count": 1,
   "metadata": {
    "collapsed": false
   },
   "outputs": [
    {
     "name": "stdout",
     "output_type": "stream",
     "text": [
      "['', 'year', 'month', 'intent', 'police', 'sex', 'age', 'race', 'hispanic', 'place', 'education']\n"
     ]
    },
    {
     "data": {
      "text/plain": [
       "[['1',\n",
       "  '2012',\n",
       "  '01',\n",
       "  'Suicide',\n",
       "  '0',\n",
       "  'M',\n",
       "  '34',\n",
       "  'Asian/Pacific Islander',\n",
       "  '100',\n",
       "  'Home',\n",
       "  '4'],\n",
       " ['2', '2012', '01', 'Suicide', '0', 'F', '21', 'White', '100', 'Street', '3'],\n",
       " ['3',\n",
       "  '2012',\n",
       "  '01',\n",
       "  'Suicide',\n",
       "  '0',\n",
       "  'M',\n",
       "  '60',\n",
       "  'White',\n",
       "  '100',\n",
       "  'Other specified',\n",
       "  '4'],\n",
       " ['4', '2012', '02', 'Suicide', '0', 'M', '64', 'White', '100', 'Home', '4'],\n",
       " ['5',\n",
       "  '2012',\n",
       "  '02',\n",
       "  'Suicide',\n",
       "  '0',\n",
       "  'M',\n",
       "  '31',\n",
       "  'White',\n",
       "  '100',\n",
       "  'Other specified',\n",
       "  '2']]"
      ]
     },
     "execution_count": 1,
     "metadata": {},
     "output_type": "execute_result"
    }
   ],
   "source": [
    "\n",
    "import csv\n",
    "file=open(\"guns.csv\")\n",
    "data=list(csv.reader(file))\n",
    "data[:5]\n",
    "headers=data[0]\n",
    "print(headers)\n",
    "data=data[1:]\n",
    "data[:5]"
   ]
  },
  {
   "cell_type": "code",
   "execution_count": 2,
   "metadata": {
    "collapsed": true
   },
   "outputs": [],
   "source": [
    "place_Ofdeath=set([row[9] for row in data])\n",
    "intent=set([row[3] for row in data])\n",
    "police_involment=set([row[4] for row in data])\n",
    "sex=set([row[5] for row in data])\n",
    "age=set([row[6] for row in data])\n",
    "race=set([row[7] for row in data])\n",
    "education=set([row[10] for row in data])"
   ]
  },
  {
   "cell_type": "code",
   "execution_count": 4,
   "metadata": {
    "collapsed": false
   },
   "outputs": [],
   "source": [
    "def count_all(data,column,requirement,col_num,col_num2):\n",
    "    count_male={}\n",
    "    count_female={}\n",
    "    for row in data:\n",
    "        if (row[col_num] in column) and (row[col_num2]==requirement):\n",
    "              if row[5]==\"M\":\n",
    "                   if row[col_num] in count_male:\n",
    "                          count_male[row[col_num]]+=1\n",
    "                   else:\n",
    "                          count_male[row[col_num]]=1\n",
    "              elif row[5]==\"F\":\n",
    "                    if row[col_num] in count_female:\n",
    "                          count_female[row[col_num]]+=1\n",
    "                    else:\n",
    "                          count_female[row[col_num]]=1\n",
    "    return count_male,count_female\n",
    "x,y=count_all(data,place_Ofdeath,\"Suicide\",9,3)\n",
    "male,female=count_all(data,age,\"Suicide\",6,3)\n",
    "\n"
   ]
  },
  {
   "cell_type": "code",
   "execution_count": 5,
   "metadata": {
    "collapsed": false
   },
   "outputs": [
    {
     "data": {
      "text/plain": [
       "{'10': 3,\n",
       " '100': 1,\n",
       " '101': 1,\n",
       " '102': 2,\n",
       " '11': 10,\n",
       " '12': 45,\n",
       " '13': 103,\n",
       " '14': 180,\n",
       " '15': 236,\n",
       " '16': 306,\n",
       " '17': 380,\n",
       " '18': 498,\n",
       " '19': 562,\n",
       " '20': 613,\n",
       " '21': 769,\n",
       " '22': 900,\n",
       " '23': 846,\n",
       " '24': 810,\n",
       " '25': 775,\n",
       " '26': 837,\n",
       " '27': 768,\n",
       " '28': 704,\n",
       " '29': 724,\n",
       " '30': 703,\n",
       " '31': 728,\n",
       " '32': 701,\n",
       " '33': 665,\n",
       " '34': 672,\n",
       " '35': 681,\n",
       " '36': 644,\n",
       " '37': 705,\n",
       " '38': 699,\n",
       " '39': 686,\n",
       " '40': 666,\n",
       " '41': 730,\n",
       " '42': 791,\n",
       " '43': 832,\n",
       " '44': 817,\n",
       " '45': 785,\n",
       " '46': 830,\n",
       " '47': 853,\n",
       " '48': 963,\n",
       " '49': 997,\n",
       " '50': 1007,\n",
       " '51': 1089,\n",
       " '52': 1109,\n",
       " '53': 1128,\n",
       " '54': 1166,\n",
       " '55': 1107,\n",
       " '56': 1112,\n",
       " '57': 1025,\n",
       " '58': 1093,\n",
       " '59': 1030,\n",
       " '60': 1031,\n",
       " '61': 990,\n",
       " '62': 789,\n",
       " '63': 792,\n",
       " '64': 825,\n",
       " '65': 792,\n",
       " '66': 744,\n",
       " '67': 676,\n",
       " '68': 662,\n",
       " '69': 685,\n",
       " '70': 741,\n",
       " '71': 637,\n",
       " '72': 608,\n",
       " '73': 616,\n",
       " '74': 575,\n",
       " '75': 580,\n",
       " '76': 491,\n",
       " '77': 506,\n",
       " '78': 508,\n",
       " '79': 500,\n",
       " '80': 462,\n",
       " '81': 488,\n",
       " '82': 463,\n",
       " '83': 481,\n",
       " '84': 431,\n",
       " '85': 397,\n",
       " '86': 376,\n",
       " '87': 279,\n",
       " '88': 317,\n",
       " '89': 214,\n",
       " '9': 2,\n",
       " '90': 192,\n",
       " '91': 160,\n",
       " '92': 115,\n",
       " '93': 94,\n",
       " '94': 57,\n",
       " '95': 48,\n",
       " '96': 33,\n",
       " '97': 18,\n",
       " '98': 14,\n",
       " '99': 5,\n",
       " 'NA': 5}"
      ]
     },
     "execution_count": 5,
     "metadata": {},
     "output_type": "execute_result"
    }
   ],
   "source": [
    "male"
   ]
  },
  {
   "cell_type": "markdown",
   "metadata": {},
   "source": [
    "Analysis on suicide rates for male:\n",
    "\n",
    "Children less than 9 do not comit Suicide according to data.Children of 9-10 years old have a rarest of the rare case to comit suicide.In the same way its the rare case for old people above 99\n",
    "\n"
   ]
  },
  {
   "cell_type": "markdown",
   "metadata": {},
   "source": [
    "Suicide rate increases rapidly from people of 11-22 years and reaches to a significant high no of 900 in 3 years.\n",
    "Then the suicide rate is constant b/w 800 to 850 till 45 years of age.\n",
    "then it sees a rapid increase till the age of 60.\n",
    "It decreases afterwards.\n"
   ]
  },
  {
   "cell_type": "code",
   "execution_count": 6,
   "metadata": {
    "collapsed": false
   },
   "outputs": [
    {
     "data": {
      "text/plain": [
       "{'101': 1,\n",
       " '11': 4,\n",
       " '12': 9,\n",
       " '13': 24,\n",
       " '14': 37,\n",
       " '15': 40,\n",
       " '16': 49,\n",
       " '17': 52,\n",
       " '18': 58,\n",
       " '19': 69,\n",
       " '20': 74,\n",
       " '21': 95,\n",
       " '22': 112,\n",
       " '23': 103,\n",
       " '24': 126,\n",
       " '25': 108,\n",
       " '26': 98,\n",
       " '27': 125,\n",
       " '28': 122,\n",
       " '29': 122,\n",
       " '30': 129,\n",
       " '31': 142,\n",
       " '32': 123,\n",
       " '33': 117,\n",
       " '34': 123,\n",
       " '35': 129,\n",
       " '36': 121,\n",
       " '37': 116,\n",
       " '38': 137,\n",
       " '39': 126,\n",
       " '40': 161,\n",
       " '41': 179,\n",
       " '42': 143,\n",
       " '43': 177,\n",
       " '44': 162,\n",
       " '45': 163,\n",
       " '46': 177,\n",
       " '47': 206,\n",
       " '48': 242,\n",
       " '49': 221,\n",
       " '50': 241,\n",
       " '51': 249,\n",
       " '52': 225,\n",
       " '53': 248,\n",
       " '54': 224,\n",
       " '55': 217,\n",
       " '56': 231,\n",
       " '57': 201,\n",
       " '58': 181,\n",
       " '59': 166,\n",
       " '60': 156,\n",
       " '61': 133,\n",
       " '62': 128,\n",
       " '63': 117,\n",
       " '64': 142,\n",
       " '65': 118,\n",
       " '66': 113,\n",
       " '67': 85,\n",
       " '68': 93,\n",
       " '69': 114,\n",
       " '70': 71,\n",
       " '71': 80,\n",
       " '72': 59,\n",
       " '73': 48,\n",
       " '74': 43,\n",
       " '75': 53,\n",
       " '76': 41,\n",
       " '77': 37,\n",
       " '78': 37,\n",
       " '79': 37,\n",
       " '80': 35,\n",
       " '81': 36,\n",
       " '82': 30,\n",
       " '83': 35,\n",
       " '84': 22,\n",
       " '85': 21,\n",
       " '86': 18,\n",
       " '87': 19,\n",
       " '88': 11,\n",
       " '89': 15,\n",
       " '90': 5,\n",
       " '91': 9,\n",
       " '92': 6,\n",
       " '93': 6,\n",
       " '94': 3,\n",
       " '95': 2,\n",
       " '96': 2,\n",
       " '98': 2,\n",
       " 'NA': 2}"
      ]
     },
     "execution_count": 6,
     "metadata": {},
     "output_type": "execute_result"
    }
   ],
   "source": [
    "female\n"
   ]
  },
  {
   "cell_type": "markdown",
   "metadata": {},
   "source": [
    "Analysis on female suicide rates:\n",
    "\n",
    "Suicide rates are lot lower than the male suicide rates.From 11 to 24 years of age no of suicide increases but the numbers are not as large as male.There is a bit of ups and downs with a peek at 50s.After 65 the rate decreases rapidly.\n",
    "\n",
    "    "
   ]
  },
  {
   "cell_type": "markdown",
   "metadata": {},
   "source": [
    "it seems that the most dangerous time in people's life is 50-60 years when most people comit suicide.\n"
   ]
  },
  {
   "cell_type": "code",
   "execution_count": 8,
   "metadata": {
    "collapsed": false
   },
   "outputs": [
    {
     "data": {
      "text/plain": [
       "{'1': 8321, '2': 22956, '3': 13016, '4': 9421, '5': 766, 'NA': 6}"
      ]
     },
     "execution_count": 8,
     "metadata": {},
     "output_type": "execute_result"
    }
   ],
   "source": [
    "male_ed,female_ed=count_all(data,education,\"Suicide\",10,3)\n",
    "male_ed"
   ]
  },
  {
   "cell_type": "code",
   "execution_count": 9,
   "metadata": {
    "collapsed": false
   },
   "outputs": [
    {
     "data": {
      "text/plain": [
       "{'1': 971, '2': 3365, '3': 2517, '4': 1726, '5': 110}"
      ]
     },
     "execution_count": 9,
     "metadata": {},
     "output_type": "execute_result"
    }
   ],
   "source": [
    "female_ed"
   ]
  },
  {
   "cell_type": "markdown",
   "metadata": {},
   "source": [
    "More peolpe commit suicide who are just educated till 10th class. lets see these people are of what races \n"
   ]
  },
  {
   "cell_type": "code",
   "execution_count": 11,
   "metadata": {
    "collapsed": true
   },
   "outputs": [],
   "source": [
    "male_ed_race,female_ed_race=count_all(data,race,\"2\",7,10)"
   ]
  },
  {
   "cell_type": "code",
   "execution_count": 12,
   "metadata": {
    "collapsed": false
   },
   "outputs": [
    {
     "data": {
      "text/plain": [
       "{'Asian/Pacific Islander': 314,\n",
       " 'Black': 9809,\n",
       " 'Hispanic': 2861,\n",
       " 'Native American/Native Alaskan': 342,\n",
       " 'White': 24013}"
      ]
     },
     "execution_count": 12,
     "metadata": {},
     "output_type": "execute_result"
    }
   ],
   "source": [
    "male_ed_race\n"
   ]
  },
  {
   "cell_type": "code",
   "execution_count": 13,
   "metadata": {
    "collapsed": false
   },
   "outputs": [
    {
     "data": {
      "text/plain": [
       "{'Asian/Pacific Islander': 63,\n",
       " 'Black': 877,\n",
       " 'Hispanic': 345,\n",
       " 'Native American/Native Alaskan': 50,\n",
       " 'White': 4253}"
      ]
     },
     "execution_count": 13,
     "metadata": {},
     "output_type": "execute_result"
    }
   ],
   "source": [
    "female_ed_race"
   ]
  },
  {
   "cell_type": "code",
   "execution_count": 14,
   "metadata": {
    "collapsed": true
   },
   "outputs": [],
   "source": [
    "racial_population={\n",
    "    \"Asian/Pacific Islander\": 15159516 + 674625,\n",
    "    \"Native American/Native Alaskan\": 3739506,\n",
    "    \"Black\": 40250635,\n",
    "    \"Hispanic\": 44618105,\n",
    "    \"White\": 197318956\n",
    "}"
   ]
  },
  {
   "cell_type": "code",
   "execution_count": 15,
   "metadata": {
    "collapsed": false
   },
   "outputs": [
    {
     "name": "stdout",
     "output_type": "stream",
     "text": [
      "{'White': 12.16963665670317, 'Black': 24.369801867722085, 'Native American/Native Alaskan': 9.145593027528236, 'Hispanic': 6.412195228820229, 'Asian/Pacific Islander': 1.9830567379689243}\n"
     ]
    }
   ],
   "source": [
    "suicide_per_hundredk={}\n",
    "for race in male_ed_race:\n",
    "    suicide_per_hundredk[race]=(male_ed_race[race]/racial_population[race])*100000\n",
    "print(suicide_per_hundredk)"
   ]
  },
  {
   "cell_type": "markdown",
   "metadata": {},
   "source": [
    "There are mostly black people in the lower educated classes class who commited suicide.second no is of Whites.Asian/Pacific Islander's do very well in this. though they are less educated but they tend to do somthing for there life other than just killig themselves."
   ]
  },
  {
   "cell_type": "markdown",
   "metadata": {},
   "source": [
    "# lets see the police involvment in crimes"
   ]
  },
  {
   "cell_type": "code",
   "execution_count": 16,
   "metadata": {
    "collapsed": false
   },
   "outputs": [
    {
     "data": {
      "text/plain": [
       "{'Accidental', 'Homicide', 'NA', 'Suicide', 'Undetermined'}"
      ]
     },
     "execution_count": 16,
     "metadata": {},
     "output_type": "execute_result"
    }
   ],
   "source": [
    "intent\n"
   ]
  },
  {
   "cell_type": "code",
   "execution_count": 18,
   "metadata": {
    "collapsed": true
   },
   "outputs": [],
   "source": [
    "male_pi_h,female_pi_h=count_all(data,police_involment,\"Homicide\",4,3)"
   ]
  },
  {
   "cell_type": "code",
   "execution_count": 19,
   "metadata": {
    "collapsed": false
   },
   "outputs": [
    {
     "data": {
      "text/plain": [
       "{'0': 28464, '1': 1339}"
      ]
     },
     "execution_count": 19,
     "metadata": {},
     "output_type": "execute_result"
    }
   ],
   "source": [
    "male_pi_h"
   ]
  },
  {
   "cell_type": "code",
   "execution_count": 20,
   "metadata": {
    "collapsed": false
   },
   "outputs": [
    {
     "data": {
      "text/plain": [
       "{'0': 5310, '1': 63}"
      ]
     },
     "execution_count": 20,
     "metadata": {},
     "output_type": "execute_result"
    }
   ],
   "source": [
    "female_pi_h\n"
   ]
  },
  {
   "cell_type": "code",
   "execution_count": 35,
   "metadata": {
    "collapsed": true
   },
   "outputs": [],
   "source": [
    "male_race_b,female_race_b=count_all(data,police_involment,\"Black\",4,7)"
   ]
  },
  {
   "cell_type": "code",
   "execution_count": 37,
   "metadata": {
    "collapsed": false
   },
   "outputs": [
    {
     "data": {
      "text/plain": [
       "{'0': 2305, '1': 13}"
      ]
     },
     "execution_count": 37,
     "metadata": {},
     "output_type": "execute_result"
    }
   ],
   "source": [
    "female_race_b"
   ]
  },
  {
   "cell_type": "code",
   "execution_count": 36,
   "metadata": {
    "collapsed": false
   },
   "outputs": [
    {
     "data": {
      "text/plain": [
       "{'0': 20635, '1': 343}"
      ]
     },
     "execution_count": 36,
     "metadata": {},
     "output_type": "execute_result"
    }
   ],
   "source": [
    "male_race_b"
   ]
  },
  {
   "cell_type": "code",
   "execution_count": 38,
   "metadata": {
    "collapsed": true
   },
   "outputs": [],
   "source": [
    "male_race_w,female_race_w=count_all(data,police_involment,\"White\",4,7)"
   ]
  },
  {
   "cell_type": "code",
   "execution_count": 39,
   "metadata": {
    "collapsed": false
   },
   "outputs": [
    {
     "data": {
      "text/plain": [
       "{'0': 54879, '1': 671}"
      ]
     },
     "execution_count": 39,
     "metadata": {},
     "output_type": "execute_result"
    }
   ],
   "source": [
    "male_race_w"
   ]
  },
  {
   "cell_type": "code",
   "execution_count": 40,
   "metadata": {
    "collapsed": false
   },
   "outputs": [
    {
     "data": {
      "text/plain": [
       "{'0': 10649, '1': 38}"
      ]
     },
     "execution_count": 40,
     "metadata": {},
     "output_type": "execute_result"
    }
   ],
   "source": [
    "female_race_w"
   ]
  },
  {
   "cell_type": "code",
   "execution_count": 42,
   "metadata": {
    "collapsed": false
   },
   "outputs": [
    {
     "data": {
      "text/plain": [
       "{'Asian/Pacific Islander': 29}"
      ]
     },
     "execution_count": 42,
     "metadata": {},
     "output_type": "execute_result"
    }
   ],
   "source": [
    "male_race_all,female_race_all=count_all(data,race,\"1\",7,4)\n",
    "male_race_all"
   ]
  },
  {
   "cell_type": "code",
   "execution_count": 45,
   "metadata": {
    "collapsed": false
   },
   "outputs": [
    {
     "data": {
      "text/plain": [
       "{'Asian/Pacific Islander',\n",
       " 'Black',\n",
       " 'Hispanic',\n",
       " 'Native American/Native Alaskan',\n",
       " 'White'}"
      ]
     },
     "execution_count": 45,
     "metadata": {},
     "output_type": "execute_result"
    }
   ],
   "source": [
    "race=set([row[7] for row in data])\n",
    "race"
   ]
  },
  {
   "cell_type": "code",
   "execution_count": 46,
   "metadata": {
    "collapsed": true
   },
   "outputs": [],
   "source": [
    "male_race_all,female_race_all=count_all(data,race,\"1\",7,4)"
   ]
  },
  {
   "cell_type": "code",
   "execution_count": 47,
   "metadata": {
    "collapsed": false
   },
   "outputs": [
    {
     "data": {
      "text/plain": [
       "{'Asian/Pacific Islander': 29,\n",
       " 'Black': 343,\n",
       " 'Hispanic': 272,\n",
       " 'Native American/Native Alaskan': 24,\n",
       " 'White': 671}"
      ]
     },
     "execution_count": 47,
     "metadata": {},
     "output_type": "execute_result"
    }
   ],
   "source": [
    "male_race_all"
   ]
  },
  {
   "cell_type": "code",
   "execution_count": 50,
   "metadata": {
    "collapsed": true
   },
   "outputs": [],
   "source": [
    "def per_hundredK(dictionary):\n",
    "    per_hundredk={}\n",
    "    for i in dictionary:\n",
    "           per_hundredk[i]=(dictionary[i]/racial_population[i])*100000\n",
    "    return per_hundredk\n"
   ]
  },
  {
   "cell_type": "code",
   "execution_count": 51,
   "metadata": {
    "collapsed": false
   },
   "outputs": [
    {
     "data": {
      "text/plain": [
       "{'Asian/Pacific Islander': 0.18314855223279874,\n",
       " 'Black': 0.8521604690211719,\n",
       " 'Hispanic': 0.6096180014816855,\n",
       " 'Native American/Native Alaskan': 0.641796001931806,\n",
       " 'White': 0.3400585598070973}"
      ]
     },
     "execution_count": 51,
     "metadata": {},
     "output_type": "execute_result"
    }
   ],
   "source": [
    "per_hundredK(male_race_all)"
   ]
  },
  {
   "cell_type": "markdown",
   "metadata": {},
   "source": [
    "police is more involved in black killings.Second no is of Native American/Native Alaskan and Hispanic.\n",
    "The Asians seem to be on the safer side here too. "
   ]
  },
  {
   "cell_type": "code",
   "execution_count": 52,
   "metadata": {
    "collapsed": false
   },
   "outputs": [
    {
     "data": {
      "text/plain": [
       "{'0': 15,\n",
       " '1': 16,\n",
       " '10': 21,\n",
       " '107': 1,\n",
       " '11': 23,\n",
       " '12': 32,\n",
       " '13': 58,\n",
       " '14': 99,\n",
       " '15': 224,\n",
       " '16': 410,\n",
       " '17': 638,\n",
       " '18': 1028,\n",
       " '19': 1238,\n",
       " '2': 16,\n",
       " '20': 1323,\n",
       " '21': 1401,\n",
       " '22': 1455,\n",
       " '23': 1329,\n",
       " '24': 1269,\n",
       " '25': 1167,\n",
       " '26': 1105,\n",
       " '27': 1016,\n",
       " '28': 987,\n",
       " '29': 931,\n",
       " '3': 21,\n",
       " '30': 863,\n",
       " '31': 816,\n",
       " '32': 839,\n",
       " '33': 771,\n",
       " '34': 750,\n",
       " '35': 674,\n",
       " '36': 638,\n",
       " '37': 554,\n",
       " '38': 539,\n",
       " '39': 461,\n",
       " '4': 17,\n",
       " '40': 463,\n",
       " '41': 449,\n",
       " '42': 430,\n",
       " '43': 394,\n",
       " '44': 336,\n",
       " '45': 311,\n",
       " '46': 315,\n",
       " '47': 352,\n",
       " '48': 293,\n",
       " '49': 317,\n",
       " '5': 13,\n",
       " '50': 311,\n",
       " '51': 301,\n",
       " '52': 266,\n",
       " '53': 225,\n",
       " '54': 202,\n",
       " '55': 170,\n",
       " '56': 197,\n",
       " '57': 159,\n",
       " '58': 154,\n",
       " '59': 142,\n",
       " '6': 16,\n",
       " '60': 114,\n",
       " '61': 118,\n",
       " '62': 115,\n",
       " '63': 90,\n",
       " '64': 86,\n",
       " '65': 66,\n",
       " '66': 72,\n",
       " '67': 60,\n",
       " '68': 69,\n",
       " '69': 45,\n",
       " '7': 26,\n",
       " '70': 36,\n",
       " '71': 32,\n",
       " '72': 32,\n",
       " '73': 33,\n",
       " '74': 28,\n",
       " '75': 22,\n",
       " '76': 20,\n",
       " '77': 13,\n",
       " '78': 22,\n",
       " '79': 16,\n",
       " '8': 10,\n",
       " '80': 16,\n",
       " '81': 7,\n",
       " '82': 8,\n",
       " '83': 11,\n",
       " '84': 14,\n",
       " '85': 4,\n",
       " '86': 2,\n",
       " '87': 5,\n",
       " '88': 4,\n",
       " '89': 3,\n",
       " '9': 24,\n",
       " '90': 3,\n",
       " '91': 1,\n",
       " '92': 1,\n",
       " '94': 2,\n",
       " '95': 2,\n",
       " '96': 1,\n",
       " '99': 1,\n",
       " 'NA': 8}"
      ]
     },
     "execution_count": 52,
     "metadata": {},
     "output_type": "execute_result"
    }
   ],
   "source": [
    "male_race_all,female_race_all=count_all(data,age,\"Homicide\",6,3)\n",
    "male_race_all"
   ]
  },
  {
   "cell_type": "markdown",
   "metadata": {},
   "source": [
    "Maximum homecides for men occur between 18-35 years of age.this is the youth's age where people have lot of energy. There are lot of angry young men in the society.\n"
   ]
  },
  {
   "cell_type": "code",
   "execution_count": 53,
   "metadata": {
    "collapsed": false
   },
   "outputs": [
    {
     "data": {
      "text/plain": [
       "{'0': 7,\n",
       " '1': 18,\n",
       " '10': 16,\n",
       " '11': 16,\n",
       " '12': 18,\n",
       " '13': 27,\n",
       " '14': 26,\n",
       " '15': 37,\n",
       " '16': 64,\n",
       " '17': 72,\n",
       " '18': 110,\n",
       " '19': 126,\n",
       " '2': 13,\n",
       " '20': 144,\n",
       " '21': 169,\n",
       " '22': 173,\n",
       " '23': 130,\n",
       " '24': 173,\n",
       " '25': 133,\n",
       " '26': 140,\n",
       " '27': 120,\n",
       " '28': 132,\n",
       " '29': 124,\n",
       " '3': 15,\n",
       " '30': 130,\n",
       " '31': 112,\n",
       " '32': 125,\n",
       " '33': 113,\n",
       " '34': 117,\n",
       " '35': 108,\n",
       " '36': 80,\n",
       " '37': 92,\n",
       " '38': 86,\n",
       " '39': 91,\n",
       " '4': 15,\n",
       " '40': 92,\n",
       " '41': 91,\n",
       " '42': 107,\n",
       " '43': 99,\n",
       " '44': 99,\n",
       " '45': 88,\n",
       " '46': 86,\n",
       " '47': 86,\n",
       " '48': 93,\n",
       " '49': 97,\n",
       " '5': 21,\n",
       " '50': 76,\n",
       " '51': 74,\n",
       " '52': 70,\n",
       " '53': 70,\n",
       " '54': 59,\n",
       " '55': 62,\n",
       " '56': 53,\n",
       " '57': 55,\n",
       " '58': 50,\n",
       " '59': 62,\n",
       " '6': 26,\n",
       " '60': 31,\n",
       " '61': 37,\n",
       " '62': 40,\n",
       " '63': 22,\n",
       " '64': 44,\n",
       " '65': 35,\n",
       " '66': 34,\n",
       " '67': 29,\n",
       " '68': 26,\n",
       " '69': 15,\n",
       " '7': 12,\n",
       " '70': 18,\n",
       " '71': 24,\n",
       " '72': 19,\n",
       " '73': 25,\n",
       " '74': 15,\n",
       " '75': 13,\n",
       " '76': 20,\n",
       " '77': 12,\n",
       " '78': 24,\n",
       " '79': 13,\n",
       " '8': 13,\n",
       " '80': 21,\n",
       " '81': 19,\n",
       " '82': 12,\n",
       " '83': 17,\n",
       " '84': 16,\n",
       " '85': 15,\n",
       " '86': 9,\n",
       " '87': 7,\n",
       " '88': 7,\n",
       " '89': 9,\n",
       " '9': 12,\n",
       " '90': 7,\n",
       " '91': 2,\n",
       " '92': 2,\n",
       " '93': 3,\n",
       " '95': 1,\n",
       " '96': 2,\n",
       " '97': 2,\n",
       " 'NA': 1}"
      ]
     },
     "execution_count": 53,
     "metadata": {},
     "output_type": "execute_result"
    }
   ],
   "source": [
    "female_race_all\n"
   ]
  },
  {
   "cell_type": "markdown",
   "metadata": {},
   "source": [
    "for women no of homecides are less but the maximum homecides are between the age of 18-50."
   ]
  },
  {
   "cell_type": "code",
   "execution_count": 54,
   "metadata": {
    "collapsed": false
   },
   "outputs": [
    {
     "data": {
      "text/plain": [
       "{'Accidental', 'Homicide', 'NA', 'Suicide', 'Undetermined'}"
      ]
     },
     "execution_count": 54,
     "metadata": {},
     "output_type": "execute_result"
    }
   ],
   "source": [
    "intent"
   ]
  },
  {
   "cell_type": "code",
   "execution_count": 55,
   "metadata": {
    "collapsed": false
   },
   "outputs": [
    {
     "data": {
      "text/plain": [
       "{'Asian/Pacific Islander': 8,\n",
       " 'Black': 104,\n",
       " 'Hispanic': 56,\n",
       " 'Native American/Native Alaskan': 11,\n",
       " 'White': 459}"
      ]
     },
     "execution_count": 55,
     "metadata": {},
     "output_type": "execute_result"
    }
   ],
   "source": [
    "male_dR_u,female_dR_u=count_all(data,race,\"Undetermined\",7,3)\n",
    "male_dR_u"
   ]
  },
  {
   "cell_type": "code",
   "execution_count": 56,
   "metadata": {
    "collapsed": false
   },
   "outputs": [
    {
     "data": {
      "text/plain": [
       "{'Asian/Pacific Islander': 2,\n",
       " 'Black': 22,\n",
       " 'Hispanic': 16,\n",
       " 'Native American/Native Alaskan': 3,\n",
       " 'White': 126}"
      ]
     },
     "execution_count": 56,
     "metadata": {},
     "output_type": "execute_result"
    }
   ],
   "source": [
    "female_dR_u\n"
   ]
  },
  {
   "cell_type": "code",
   "execution_count": 57,
   "metadata": {
    "collapsed": false
   },
   "outputs": [
    {
     "data": {
      "text/plain": [
       "{'Asian/Pacific Islander': 0.05052373854697896,\n",
       " 'Black': 0.2583810168460696,\n",
       " 'Hispanic': 0.12550958854034702,\n",
       " 'Native American/Native Alaskan': 0.29415650088541107,\n",
       " 'White': 0.23261829948056284}"
      ]
     },
     "execution_count": 57,
     "metadata": {},
     "output_type": "execute_result"
    }
   ],
   "source": [
    "per_hundredK(male_dR_u)"
   ]
  },
  {
   "cell_type": "markdown",
   "metadata": {},
   "source": [
    "There are not much undetermined cases but gereally asians cases solve out and death reason are known.\n"
   ]
  },
  {
   "cell_type": "code",
   "execution_count": 58,
   "metadata": {
    "collapsed": false
   },
   "outputs": [
    {
     "data": {
      "text/plain": [
       "{'Asian/Pacific Islander': 0.01263093463674474,\n",
       " 'Black': 0.05465752279436088,\n",
       " 'Hispanic': 0.03585988244009915,\n",
       " 'Native American/Native Alaskan': 0.08022450024147575,\n",
       " 'White': 0.06385600377897803}"
      ]
     },
     "execution_count": 58,
     "metadata": {},
     "output_type": "execute_result"
    }
   ],
   "source": [
    "per_hundredK(female_dR_u)\n"
   ]
  },
  {
   "cell_type": "markdown",
   "metadata": {},
   "source": [
    "More percentage of women death cases are solved and the death reason are clear in comparison to men."
   ]
  },
  {
   "cell_type": "code",
   "execution_count": 67,
   "metadata": {
    "collapsed": false
   },
   "outputs": [
    {
     "data": {
      "text/plain": [
       "{'Accidental', 'Homicide', 'NA', 'Suicide', 'Undetermined'}"
      ]
     },
     "execution_count": 67,
     "metadata": {},
     "output_type": "execute_result"
    }
   ],
   "source": [
    "male_p_u,female_p_u=count_all(data,intent,\"1\",3,4)\n",
    "intent"
   ]
  },
  {
   "cell_type": "code",
   "execution_count": 68,
   "metadata": {
    "collapsed": false
   },
   "outputs": [
    {
     "data": {
      "text/plain": [
       "{'Homicide': 1339}"
      ]
     },
     "execution_count": 68,
     "metadata": {},
     "output_type": "execute_result"
    }
   ],
   "source": [
    "male_p_u"
   ]
  },
  {
   "cell_type": "code",
   "execution_count": 62,
   "metadata": {
    "collapsed": false
   },
   "outputs": [
    {
     "data": {
      "text/plain": [
       "{'0': 169}"
      ]
     },
     "execution_count": 62,
     "metadata": {},
     "output_type": "execute_result"
    }
   ],
   "source": [
    "female_p_u"
   ]
  },
  {
   "cell_type": "code",
   "execution_count": null,
   "metadata": {
    "collapsed": true
   },
   "outputs": [],
   "source": []
  }
 ],
 "metadata": {
  "kernelspec": {
   "display_name": "Python 3",
   "language": "python",
   "name": "python3"
  },
  "language_info": {
   "codemirror_mode": {
    "name": "ipython",
    "version": 3
   },
   "file_extension": ".py",
   "mimetype": "text/x-python",
   "name": "python",
   "nbconvert_exporter": "python",
   "pygments_lexer": "ipython3",
   "version": "3.4.3"
  }
 },
 "nbformat": 4,
 "nbformat_minor": 2
}
