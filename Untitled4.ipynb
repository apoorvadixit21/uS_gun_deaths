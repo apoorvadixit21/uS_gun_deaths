{
 "cells": [
  {
   "cell_type": "code",
   "execution_count": 1,
   "metadata": {
    "collapsed": false
   },
   "outputs": [
    {
     "name": "stdout",
     "output_type": "stream",
     "text": [
      "['', 'year', 'month', 'intent', 'police', 'sex', 'age', 'race', 'hispanic', 'place', 'education']\n"
     ]
    },
    {
     "data": {
      "text/plain": [
       "[['1',\n",
       "  '2012',\n",
       "  '01',\n",
       "  'Suicide',\n",
       "  '0',\n",
       "  'M',\n",
       "  '34',\n",
       "  'Asian/Pacific Islander',\n",
       "  '100',\n",
       "  'Home',\n",
       "  '4'],\n",
       " ['2', '2012', '01', 'Suicide', '0', 'F', '21', 'White', '100', 'Street', '3'],\n",
       " ['3',\n",
       "  '2012',\n",
       "  '01',\n",
       "  'Suicide',\n",
       "  '0',\n",
       "  'M',\n",
       "  '60',\n",
       "  'White',\n",
       "  '100',\n",
       "  'Other specified',\n",
       "  '4'],\n",
       " ['4', '2012', '02', 'Suicide', '0', 'M', '64', 'White', '100', 'Home', '4'],\n",
       " ['5',\n",
       "  '2012',\n",
       "  '02',\n",
       "  'Suicide',\n",
       "  '0',\n",
       "  'M',\n",
       "  '31',\n",
       "  'White',\n",
       "  '100',\n",
       "  'Other specified',\n",
       "  '2']]"
      ]
     },
     "execution_count": 1,
     "metadata": {},
     "output_type": "execute_result"
    }
   ],
   "source": [
    "import csv\n",
    "file=open(\"guns.csv\")\n",
    "data=list(csv.reader(file))\n",
    "data[:5]\n",
    "headers=data[0]\n",
    "print(headers)\n",
    "data=data[1:]\n",
    "data[:5]"
   ]
  },
  {
   "cell_type": "code",
   "execution_count": 4,
   "metadata": {
    "collapsed": false
   },
   "outputs": [
    {
     "data": {
      "text/plain": [
       "{'Farm',\n",
       " 'Home',\n",
       " 'Industrial/construction',\n",
       " 'NA',\n",
       " 'Other specified',\n",
       " 'Other unspecified',\n",
       " 'Residential institution',\n",
       " 'School/instiution',\n",
       " 'Sports',\n",
       " 'Street',\n",
       " 'Trade/service area'}"
      ]
     },
     "execution_count": 4,
     "metadata": {},
     "output_type": "execute_result"
    }
   ],
   "source": [
    "place_Ofdeath=set([row[9] for row in data])\n",
    "place_Ofdeath"
   ]
  },
  {
   "cell_type": "code",
   "execution_count": 9,
   "metadata": {
    "collapsed": false
   },
   "outputs": [
    {
     "data": {
      "text/plain": [
       "{'Farm': 378,\n",
       " 'Home': 45415,\n",
       " 'Industrial/construction': 155,\n",
       " 'Other specified': 8031,\n",
       " 'Other unspecified': 4774,\n",
       " 'Residential institution': 125,\n",
       " 'School/instiution': 295,\n",
       " 'Sports': 98,\n",
       " 'Street': 2181,\n",
       " 'Trade/service area': 1723}"
      ]
     },
     "execution_count": 9,
     "metadata": {},
     "output_type": "execute_result"
    }
   ],
   "source": [
    "suicide={}\n",
    "for i in place_Ofdeath:\n",
    "     for row in data:\n",
    "            if (row[9]==i) and (row[3]==\"Suicide\"):\n",
    "                  if i in suicide:\n",
    "                        suicide[i]+=1\n",
    "                  else:\n",
    "                        suicide[i]=1\n",
    "suicide\n",
    "                "
   ]
  },
  {
   "cell_type": "code",
   "execution_count": 11,
   "metadata": {
    "collapsed": false
   },
   "outputs": [],
   "source": [
    "intent=set([row[3] for row in data])\n",
    "police_involment=set([row[4] for row in data])\n",
    "sex=set([row[5] for row in data])\n",
    "age=set([row[6] for row in data])\n",
    "race=set([row[7] for row in data])\n",
    "education=set([row[10] for row in data])\n"
   ]
  },
  {
   "cell_type": "code",
   "execution_count": 12,
   "metadata": {
    "collapsed": true
   },
   "outputs": [],
   "source": [
    "def count_all(data,column,requirement,col_num,col_num2):\n",
    "    count_male={}\n",
    "    count_female={}\n",
    "    for row in data:\n",
    "        if (row[col_num] in column) and (row[col_num2]==requirement):\n",
    "              if row[5]==\"M\":\n",
    "                   if row[col_num] in count_male:\n",
    "                          count_male[row[col_num]]+=1\n",
    "                   else:\n",
    "                          count_male[row[col_num]]=1\n",
    "              elif row[5]==\"F\":\n",
    "                    if row[col_num] in count_female:\n",
    "                          count_female[row[col_num]]+=1\n",
    "                    else:\n",
    "                          count_female[row[col_num]]=1\n",
    "    return count_male,count_female\n",
    "x,y=count_all(data,place_Ofdeath,\"Suicide\",9,3)\n",
    "\n",
    "\n",
    "\n",
    "            "
   ]
  },
  {
   "cell_type": "code",
   "execution_count": 13,
   "metadata": {
    "collapsed": false
   },
   "outputs": [
    {
     "data": {
      "text/plain": [
       "{'Farm': 345,\n",
       " 'Home': 38691,\n",
       " 'Industrial/construction': 143,\n",
       " 'Other specified': 7182,\n",
       " 'Other unspecified': 4174,\n",
       " 'Residential institution': 109,\n",
       " 'School/instiution': 265,\n",
       " 'Sports': 87,\n",
       " 'Street': 1972,\n",
       " 'Trade/service area': 1518}"
      ]
     },
     "execution_count": 13,
     "metadata": {},
     "output_type": "execute_result"
    }
   ],
   "source": [
    "x"
   ]
  },
  {
   "cell_type": "code",
   "execution_count": 14,
   "metadata": {
    "collapsed": false
   },
   "outputs": [
    {
     "data": {
      "text/plain": [
       "{'Farm': 33,\n",
       " 'Home': 6724,\n",
       " 'Industrial/construction': 12,\n",
       " 'Other specified': 849,\n",
       " 'Other unspecified': 600,\n",
       " 'Residential institution': 16,\n",
       " 'School/instiution': 30,\n",
       " 'Sports': 11,\n",
       " 'Street': 209,\n",
       " 'Trade/service area': 205}"
      ]
     },
     "execution_count": 14,
     "metadata": {},
     "output_type": "execute_result"
    }
   ],
   "source": [
    "y\n"
   ]
  },
  {
   "cell_type": "code",
   "execution_count": null,
   "metadata": {
    "collapsed": true
   },
   "outputs": [],
   "source": []
  }
 ],
 "metadata": {
  "kernelspec": {
   "display_name": "Python 3",
   "language": "python",
   "name": "python3"
  },
  "language_info": {
   "codemirror_mode": {
    "name": "ipython",
    "version": 3
   },
   "file_extension": ".py",
   "mimetype": "text/x-python",
   "name": "python",
   "nbconvert_exporter": "python",
   "pygments_lexer": "ipython3",
   "version": "3.4.3"
  }
 },
 "nbformat": 4,
 "nbformat_minor": 2
}
